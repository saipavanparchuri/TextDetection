{
 "cells": [
  {
   "cell_type": "markdown",
   "metadata": {},
   "source": [
    "# Handwritten Text Recognition System\n",
    "\n",
    "## Problem Definition\n",
    "\n",
    "Our application aims to facilitate the conversion of handwritten text into digital format. Users can upload images containing handwritten English block letters, including both uppercase and lowercase letters, as well as numeric digits. With a character set of 62 possibilities, spanning from 0-9, A-Z, and a-z, our goal is to accurately transcribe users' handwritten characters into textual characters.\n",
    "\n",
    "This application targets a broad audience, including students, educators, researchers, and office workers. These users frequently engage in handwritten note-taking activities, and our application aims to streamline their workflow by allowing them to easily digitize their handwritten notes. This not only enhances organization but also facilitates the seamless integration of handwritten content into digital platforms.\n",
    "\n",
    "Our application prioritizes simplicity and efficiency. Users expect minimal effort and swift results, thus emphasizing the need for low latency and user-friendly interfaces. \n",
    "\n",
    "## System Design\n",
    "\n",
    "Our system consists of several key components:\n",
    "\n",
    "- **Data Preprocessing:** We preprocess handwritten images, converting them into a suitable format for model training.Data preprocessing involves transforming uploaded images into a format suitable for the machine learning model. This includes resizing, grayscale conversion, and thresholding to enhance image quality.\n",
    "- **Modeling:** We design and train a CNN architecture using PyTorch to perform the handwritten text recognition task. Model is trained on a dataset containing handwritten characters, the model learns to accurately classify images into their corresponding textual characters.\n",
    "- **Deployment:** The trained model can be deployed for inference on new handwritten images. The user interface provides a seamless experience for users to upload images and receive digital text outputs. Minimalistic design and intuitive interactions ensure ease of use for users of all backgrounds.\n",
    "- **User Experience:** We provide a simple interface for users to interact with the system, allowing them to upload images for text recognition.\n",
    "\n",
    "Central design decisions include the choice of implementing CNN model for its effectiveness in image classification tasks and the utilization of PyTorch due to its flexibility and ease of use in implementing neural networks.\n",
    "\n",
    "## Machine Learning Component\n",
    "\n",
    "The CNN model is trained on a custom dataset comprising handwritten characters. We preprocess the images by resizing them, converting to grayscale, and applying thresholding to create binary images. The model architecture consists of multiple convolutional layers followed by fully connected layers. We optimize the model using the Adam optimizer and experiment with varying hyperparameters to improve performance.\n",
    "\n",
    "## System Evaluation\n",
    "\n",
    "We evaluate the system's performance by measuring accuracy on a separate test dataset. Additionally, we analyze training and validation loss to assess model convergence and potential overfitting. Our results demonstrate consistent improvement in accuracy over epochs, indicating the effectiveness of the proposed approach. However, we note that execution time increases with model complexity, highlighting a trade-off between performance and efficiency.\n",
    "\n",
    "## Application Demonstration\n",
    "\n",
    "To demonstrate the application, users can upload images containing handwritten text, and the system will provide the transcribed text. The interface is intuitive and user-friendly, allowing seamless interaction with the text recognition functionality. Detailed instructions on using the application are provided to ensure a smooth user experience.\n",
    "\n",
    "## Reflection\n",
    "\n",
    "Throughout the project, we encountered both successes and challenges. The CNN model proved effective in recognizing handwritten text, demonstrating steady improvement in accuracy. However, optimizing hyperparameters and managing execution time were ongoing challenges. In the future, we plan to explore more advanced architectures and optimization techniques to further enhance performance.\n",
    "\n",
    "## Broader Impacts\n",
    "\n",
    "Our application has potential uses in various domains, including digitization of handwritten documents and aiding individuals with disabilities. However, we recognize the importance of mitigating unintended uses and potential biases in the system. We remain committed to ethical design practices and continual improvement to minimize harm and maximize societal benefit.\n",
    "\n",
    "## References\n",
    "\n",
    "- Streamlit Documentation:https://mafda.medium.com/prototyping-a-ml-app-with-streamlit-fastapi-hugging-face-f21f14e7d239\n",
    "- Convolutional Neural Networks Tutorial:https://github.com/zademn/mnist-mlops-learning\n",
    "- Kaggle Handwritten Datasets: https://www.kaggle.com/code/mohammadkumail/handwritten-character-recognition-deep-learning\n",
    "- ChatGPT 3.5\n",
    "\n",
    "\n",
    "## Model Objectives:\n",
    "* Starting with a simple model, try creating a more advanced CNN model that can be easily tuned\n",
    "* Create models with varying depth (number of convolutional layers) to observe performance vs time consumption\n",
    "* Apply various hyperparameter tuning techniques to CNN models"
   ]
  },
  {
   "cell_type": "code",
   "execution_count": 1,
   "metadata": {
    "tags": []
   },
   "outputs": [],
   "source": [
    "import torch\n",
    "import torchvision\n",
    "from torchvision import transforms, datasets\n",
    "from torchvision.transforms import Normalize, ToTensor\n",
    "import torch.nn as nn  # neural network\n",
    "import torch.optim as optim  # optimization layer\n",
    "import torch.nn.functional as F  # activation functions\n",
    "import matplotlib.pyplot as plt\n",
    "import argparse\n",
    "import time\n",
    "from collections import OrderedDict"
   ]
  },
  {
   "cell_type": "code",
   "execution_count": 89,
   "metadata": {
    "tags": []
   },
   "outputs": [],
   "source": [
    "import os\n",
    "import pandas as pd\n",
    "from PIL import Image\n",
    "import torch\n",
    "from torch.utils.data import Dataset, DataLoader\n",
    "from torchvision import transforms\n",
    "\n",
    "class CustomDataset(Dataset):\n",
    "    def __init__(self, data_dir, csv_file, transform=None):\n",
    "        self.data_dir = data_dir\n",
    "        self.data_df = pd.read_csv(csv_file)\n",
    "        self.transform = transform\n",
    "        self.label_mapping = {label: index for index, label in enumerate(\"0123456789ABCDEFGHIJKLMNOPQRSTUVWXYZabcdefghijklmnopqrstuvwxyz\")}\n",
    "\n",
    "        \n",
    "    def __len__(self):\n",
    "        return len(self.data_df)\n",
    "    \n",
    "    def __getitem__(self, idx):\n",
    "        img_name = os.path.join(self.data_dir, self.data_df.iloc[idx, 0])\n",
    "        image = Image.open(img_name)\n",
    "        label_str = self.data_df.iloc[idx, 1]\n",
    "        label = self.label_mapping[label_str]\n",
    "        \n",
    "        if self.transform:\n",
    "            image = self.transform(image)\n",
    "        \n",
    "        return image, torch.tensor(label)\n",
    "\n",
    "class ToBinary(object):\n",
    "    \"\"\"\n",
    "    Convert a grayscale image to a binary image using thresholding.\n",
    "\n",
    "    Args:\n",
    "    - threshold: Threshold value for binarization (default: 128)\n",
    "    \"\"\"\n",
    "    def __init__(self, threshold=128):\n",
    "        self.threshold = threshold\n",
    "\n",
    "    def __call__(self, img):\n",
    "        \"\"\"\n",
    "        Apply the transform to the input image.\n",
    "\n",
    "        Args:\n",
    "        - img: Input grayscale image (PIL Image or tensor)\n",
    "\n",
    "        Returns:\n",
    "        - bin_img: Binary image (PIL Image or tensor)\n",
    "        \"\"\"\n",
    "        if isinstance(img, torch.Tensor):\n",
    "            # Convert tensor to PIL Image\n",
    "            img = transforms.ToPILImage()(img)\n",
    "\n",
    "        # Convert the image to grayscale (if not already)\n",
    "        if img.mode != 'L':\n",
    "            img = img.convert('L')\n",
    "\n",
    "        # Apply thresholding to convert to binary image\n",
    "        bin_img = img.point(lambda p: p > self.threshold and 255)\n",
    "\n",
    "        if isinstance(img, torch.Tensor):\n",
    "            # Convert PIL Image to tensor\n",
    "            bin_img = transforms.ToTensor()(bin_img)\n",
    "\n",
    "        return bin_img"
   ]
  },
  {
   "cell_type": "code",
   "execution_count": 90,
   "metadata": {
    "tags": []
   },
   "outputs": [],
   "source": [
    "import torch\n",
    "import torch.nn as nn\n",
    "import torch.optim as optim\n",
    "import torchvision.transforms as transforms\n",
    "import torchvision.datasets as datasets\n",
    "from torch.utils.data import DataLoader, random_split\n",
    "from tqdm import tqdm\n",
    "\n",
    "\n",
    "class CNN(nn.Module):\n",
    "    def __init__(self):\n",
    "        super(CNN, self).__init__()\n",
    "        self.conv1 = nn.Conv2d(in_channels=1, out_channels=32, kernel_size=3, stride=1, padding=1)\n",
    "        self.bn1 = nn.BatchNorm2d(32)\n",
    "        self.conv2 = nn.Conv2d(in_channels=32, out_channels=64, kernel_size=3, stride=1, padding=1)\n",
    "        self.bn2 = nn.BatchNorm2d(64)\n",
    "        self.conv3 = nn.Conv2d(in_channels=64, out_channels=128, kernel_size=3, stride=1, padding=1)\n",
    "        self.bn3 = nn.BatchNorm2d(128)\n",
    "        self.pool = nn.MaxPool2d(kernel_size=2, stride=2)\n",
    "        self.relu = nn.ReLU()\n",
    "        self.fc1 = nn.Linear(128 * 4 * 4, 128)\n",
    "        self.fc2 = nn.Linear(128, 62)  # 62 classes for EMNIST ByClass dataset\n",
    "\n",
    "    def forward(self, x):\n",
    "        x = self.pool(self.relu(self.bn1(self.conv1(x))))\n",
    "        x = self.pool(self.relu(self.bn2(self.conv2(x))))\n",
    "        x = self.pool(self.relu(self.bn3(self.conv3(x))))\n",
    "        # print(x.shape)\n",
    "        x = x.view(-1, 128 * 4 * 4)\n",
    "        x = self.relu(self.fc1(x))\n",
    "        x = self.fc2(x)\n",
    "        return x\n",
    "\n",
    "\n",
    "# Initialize your CNN model\n",
    "model = CNN()"
   ]
  },
  {
   "cell_type": "code",
   "execution_count": 94,
   "metadata": {
    "tags": []
   },
   "outputs": [
    {
     "name": "stderr",
     "output_type": "stream",
     "text": [
      "Epoch 1/5: 100%|██████████| 88/88 [00:32<00:00,  2.73batch/s]\n"
     ]
    },
    {
     "name": "stdout",
     "output_type": "stream",
     "text": [
      "Training Loss: 0.1647\n"
     ]
    },
    {
     "name": "stderr",
     "output_type": "stream",
     "text": [
      "Testing: 100%|██████████| 22/22 [00:07<00:00,  2.92batch/s]\n"
     ]
    },
    {
     "name": "stdout",
     "output_type": "stream",
     "text": [
      "Accuracy on test set: 0.9157\n"
     ]
    },
    {
     "name": "stderr",
     "output_type": "stream",
     "text": [
      "Epoch 2/5: 100%|██████████| 88/88 [00:32<00:00,  2.74batch/s]\n"
     ]
    },
    {
     "name": "stdout",
     "output_type": "stream",
     "text": [
      "Training Loss: 0.1059\n"
     ]
    },
    {
     "name": "stderr",
     "output_type": "stream",
     "text": [
      "Testing: 100%|██████████| 22/22 [00:07<00:00,  2.92batch/s]\n"
     ]
    },
    {
     "name": "stdout",
     "output_type": "stream",
     "text": [
      "Accuracy on test set: 0.9586\n"
     ]
    },
    {
     "name": "stderr",
     "output_type": "stream",
     "text": [
      "Epoch 3/5: 100%|██████████| 88/88 [00:32<00:00,  2.73batch/s]\n"
     ]
    },
    {
     "name": "stdout",
     "output_type": "stream",
     "text": [
      "Training Loss: 0.0602\n"
     ]
    },
    {
     "name": "stderr",
     "output_type": "stream",
     "text": [
      "Testing: 100%|██████████| 22/22 [00:07<00:00,  2.92batch/s]\n"
     ]
    },
    {
     "name": "stdout",
     "output_type": "stream",
     "text": [
      "Accuracy on test set: 0.9714\n"
     ]
    },
    {
     "name": "stderr",
     "output_type": "stream",
     "text": [
      "Epoch 4/5: 100%|██████████| 88/88 [00:32<00:00,  2.74batch/s]\n"
     ]
    },
    {
     "name": "stdout",
     "output_type": "stream",
     "text": [
      "Training Loss: 0.0423\n"
     ]
    },
    {
     "name": "stderr",
     "output_type": "stream",
     "text": [
      "Testing: 100%|██████████| 22/22 [00:07<00:00,  2.93batch/s]\n"
     ]
    },
    {
     "name": "stdout",
     "output_type": "stream",
     "text": [
      "Accuracy on test set: 0.9571\n"
     ]
    },
    {
     "name": "stderr",
     "output_type": "stream",
     "text": [
      "Epoch 5/5: 100%|██████████| 88/88 [00:32<00:00,  2.73batch/s]\n"
     ]
    },
    {
     "name": "stdout",
     "output_type": "stream",
     "text": [
      "Training Loss: 0.0301\n"
     ]
    },
    {
     "name": "stderr",
     "output_type": "stream",
     "text": [
      "Testing: 100%|██████████| 22/22 [00:07<00:00,  2.92batch/s]"
     ]
    },
    {
     "name": "stdout",
     "output_type": "stream",
     "text": [
      "Accuracy on test set: 0.9714\n"
     ]
    },
    {
     "name": "stderr",
     "output_type": "stream",
     "text": [
      "\n"
     ]
    }
   ],
   "source": [
    "# Define your loss function and optimizer\n",
    "criterion = nn.CrossEntropyLoss()\n",
    "optimizer = optim.Adam(model.parameters(), lr=0.001)\n",
    "\n",
    "# Define transforms for the dataset\n",
    "data_transform = transforms.Compose([\n",
    "    transforms.Resize((32, 32)),    # Resize images to (32, 32)\n",
    "    transforms.Grayscale(), # Convert images to grayscale\n",
    "    #transforms.RandomHorizontalFlip(),\n",
    "    #transforms.RandomRotation(20),\n",
    "    ToBinary(threshold=128),        # Convert images to binary using thresholding\n",
    "    transforms.ToTensor()           # Convert images to PyTorch tensors\n",
    "])\n",
    "\n",
    "# Create a custom dataset and dataloader\n",
    "dataset = CustomDataset(data_dir='data/',\n",
    "                        csv_file='data/english.csv',\n",
    "                        transform=data_transform)\n",
    "\n",
    "# Split dataset into train and test partitions\n",
    "train_size = int(0.8 * len(dataset))\n",
    "test_size = len(dataset) - train_size\n",
    "train_dataset, test_dataset = random_split(dataset, [train_size, test_size])\n",
    "\n",
    "# Create dataloaders for train and test partitions\n",
    "train_loader = DataLoader(train_dataset, batch_size=32, shuffle=True)\n",
    "test_loader = DataLoader(test_dataset, batch_size=32, shuffle=False)\n",
    "\n",
    "# Training loop\n",
    "num_epochs = 5\n",
    "device = torch.device(\"cpu\")\n",
    "model.to(device)\n",
    "model_path = '/Users/smritikumari/Desktop/ML_Project/hand_dataset_model/model.pt'\n",
    "\n",
    "# model.load_state_dict(torch.load(model_path))\n",
    "\n",
    "for epoch in range(num_epochs):\n",
    "    model.train()\n",
    "    running_loss = 0.0\n",
    "    for images, labels in tqdm(train_loader, desc=f\"Epoch {epoch+1}/{num_epochs}\", unit=\"batch\"):\n",
    "        images, labels = images.to(device), labels.to(device)\n",
    "        optimizer.zero_grad()\n",
    "        outputs = model(images)\n",
    "        loss = criterion(outputs, labels)\n",
    "        loss.backward()\n",
    "        optimizer.step()\n",
    "        running_loss += loss.item() * images.size(0)\n",
    "    \n",
    "    # Calculate average loss for the epoch\n",
    "    epoch_loss = running_loss / len(train_dataset)\n",
    "    print(f\"Training Loss: {epoch_loss:.4f}\")\n",
    "\n",
    "    # Evaluate on test set\n",
    "    model.eval()\n",
    "    correct = 0\n",
    "    total = 0\n",
    "    with torch.no_grad():\n",
    "        for images, labels in tqdm(test_loader, desc=\"Testing\", unit=\"batch\"):\n",
    "            images, labels = images.to(device), labels.to(device)\n",
    "            outputs = model(images)\n",
    "            _, predicted = torch.max(outputs.data, 1)\n",
    "            total += labels.size(0)\n",
    "            correct += (predicted == labels).sum().item()\n",
    "\n",
    "    accuracy = correct / total\n",
    "    print(f\"Accuracy on test set: {accuracy:.4f}\")\n",
    "torch.save(model.to(torch.device('cpu')).state_dict(), '/Users/smritikumari/Desktop/ML_Project/hand_dataset_model/model_binary.pt')"
   ]
  },
  {
   "cell_type": "code",
   "execution_count": 138,
   "metadata": {
    "tags": []
   },
   "outputs": [],
   "source": [
    "import torch\n",
    "import torchvision.transforms as transforms\n",
    "from PIL import Image\n",
    "import os \n",
    "\n",
    "# def emnist_byclass_label_to_char(label):\n",
    "#     if label < 10:\n",
    "#         return str(label)  # Digits 0-9\n",
    "#     elif label < 36:\n",
    "#         return chr(label + 55)  # Capital letters A-Z (ASCII 65-90)\n",
    "#     else:\n",
    "#         return chr(label + 61)  # Small letters a-z (ASCII 97-122)\n",
    "\n",
    "def emnist_byclass_label_to_char(label):\n",
    "        # Decode label using the label mapping\n",
    "    label_mapping = {label: index for index, label in enumerate(\"0123456789ABCDEFGHIJKLMNOPQRSTUVWXYZabcdefghijklmnopqrstuvwxyz\")}\n",
    "    return list(label_mapping.keys())[list(label_mapping.values()).index(label)]\n",
    "\n",
    "def infer(net, test_folder):\n",
    "    '''\n",
    "    Returns test accuracy\n",
    "    \n",
    "        Parameters:\n",
    "            net (CNN): a trained model\n",
    "            args (ArgumentParser): hyperparameters\n",
    "        \n",
    "        Returns:\n",
    "            test_acc (float): test accuracy of a trained model\n",
    "    '''\n",
    "\n",
    "    # net = CNN()\n",
    "    \n",
    "    # net.load_state_dict(torch.load(model_path))\n",
    "    \n",
    "    net.eval()\n",
    "\n",
    "    def predict_image(image_path, model):\n",
    "        image = Image.open(image_path)  # Convert to grayscale\n",
    "        # Define transforms for the dataset\n",
    "        transform = transforms.Compose([\n",
    "            transforms.Resize((32, 32)),    # Resize images to (32, 32)\n",
    "            transforms.Grayscale(),         # Convert images to grayscale\n",
    "            ToBinary(threshold=128),        # Convert images to binary using thresholding\n",
    "            transforms.ToTensor()           # Convert images to PyTorch tensors\n",
    "        ])\n",
    "        image = transform(image)\n",
    "        image = torch.unsqueeze(image, 0)  # Add batch dimension\n",
    "        with torch.no_grad():\n",
    "            output = model(image)\n",
    "            _, predicted = torch.max(output, 1)\n",
    "            return predicted.item()\n",
    "\n",
    "\n",
    "    # Iterate through each image in the folder\n",
    "    for filename in os.listdir(test_folder):\n",
    "        if filename.endswith(\".png\"):\n",
    "            image_path = os.path.join(test_folder, filename)\n",
    "            predicted_label = predict_image(image_path, net)\n",
    "            predicted_char = emnist_byclass_label_to_char(predicted_label)\n",
    "            print(f\"you wrote: for {filename}: {predicted_char}\")"
   ]
  },
  {
   "cell_type": "code",
   "execution_count": 145,
   "metadata": {
    "tags": []
   },
   "outputs": [
    {
     "name": "stdout",
     "output_type": "stream",
     "text": [
      "you wrote: for h.png: h\n",
      "you wrote: for i.png: i\n",
      "you wrote: for Z.png: Z\n",
      "you wrote: for AA.png: h\n",
      "you wrote: for O.png: O\n",
      "you wrote: for test A.png: R\n",
      "you wrote: for PP.png: H\n",
      "you wrote: for B.png: f\n",
      "you wrote: for C.png: C\n",
      "you wrote: for BB.png: K\n",
      "you wrote: for 5.png: 5\n",
      "you wrote: for A.png: A\n",
      "you wrote: for w.png: d\n",
      "you wrote: for 6.png: E\n",
      "you wrote: for D.png: B\n",
      "you wrote: for 2.png: 2\n",
      "you wrote: for s.png: E\n",
      "you wrote: for e.png: R\n",
      "you wrote: for g.png: 5\n",
      "you wrote: for P.png: F\n",
      "you wrote: for CC.png: G\n",
      "you wrote: for Q.png: d\n",
      "you wrote: for f.png: f\n"
     ]
    }
   ],
   "source": [
    "#Test inference code\n",
    "model_path = '/Users/smritikumari/Desktop/ML_Project/hand_dataset_model/model.pt'\n",
    "test_folder = '/Users/smritikumari/Desktop/ML_Project/hand_dataset_model/test_imgs/'\n",
    "infer(model, test_folder)"
   ]
  },
  {
   "cell_type": "code",
   "execution_count": 144,
   "metadata": {
    "tags": []
   },
   "outputs": [
    {
     "name": "stdout",
     "output_type": "stream",
     "text": [
      "Recognized Text: C0ZN\n"
     ]
    },
    {
     "data": {
      "image/png": "[encoded data removed]",
      "text/plain": [
       "<Figure size 1000x500 with 4 Axes>"
      ]
     },
     "metadata": {},
     "output_type": "display_data"
    }
   ],
   "source": [
    "import cv2\n",
    "import numpy as np\n",
    "import torch\n",
    "import torch.nn.functional as F\n",
    "from torchvision import transforms\n",
    "from PIL import Image\n",
    "\n",
    "def crop_pillow_image(image, bounding_boxes, padding=60):\n",
    "    \"\"\"\n",
    "    Crop a Pillow image based on the given list of bounding box coordinates and pad with white pixels.\n",
    "\n",
    "    Args:\n",
    "    - image: Pillow image object\n",
    "    - bounding_boxes: List of bounding box coordinates (each bounding box is a tuple (x, y, w, h))\n",
    "    - padding: Amount of padding to add around the bounding box (default: 10 pixels)\n",
    "\n",
    "    Returns:\n",
    "    - cropped_images: List of cropped and padded Pillow image objects\n",
    "    \"\"\"\n",
    "    cropped_images = []\n",
    "    for bbox in bounding_boxes:\n",
    "        x, y, w, h = bbox\n",
    "        # Crop the image using the provided coordinates\n",
    "        cropped_image = image.crop((x, y, x + w, y + h))\n",
    "        # Create a larger canvas with white background\n",
    "        padded_image = Image.new('L', (w + 2 * padding, h + 2 * padding), color=255)\n",
    "        # Paste the cropped image onto the canvas with an offset\n",
    "        padded_image.paste(cropped_image, (padding, padding))\n",
    "        # padded_image.show()\n",
    "        cropped_images.append(padded_image)\n",
    "    return cropped_images\n",
    "\n",
    "def preprocess_image(image_path):\n",
    "    \n",
    "    orig_img = Image.open(image_path)\n",
    "    \n",
    "    img = cv2.imread(image_path, cv2.IMREAD_GRAYSCALE)\n",
    "    # Apply thresholding to get binary image\n",
    "    _, img = cv2.threshold(img, 128, 255, cv2.THRESH_BINARY | cv2.THRESH_OTSU)\n",
    "    # Invert the image\n",
    "    img = cv2.bitwise_not(img)\n",
    "    # Find contours\n",
    "    contours, _ = cv2.findContours(img, cv2.RETR_EXTERNAL, cv2.CHAIN_APPROX_SIMPLE)\n",
    "    # Extract bounding boxes of contours\n",
    "    bounding_boxes = [cv2.boundingRect(contour) for contour in contours]\n",
    "    # Sort bounding boxes by x-coordinate to get characters from left to right\n",
    "    bounding_boxes.sort(key=lambda x: x[0])\n",
    "    # Extract individual characters\n",
    "    characters = []\n",
    "    # for x, y, w, h in bounding_boxes:\n",
    "    #     character = img[y:y+h, x:x+w]\n",
    "    #     characters.append(Image.fromarray(character)\n",
    "\n",
    "    return crop_pillow_image(orig_img, bounding_boxes)\n",
    "\n",
    "def infer_characters(characters):\n",
    "    '''\n",
    "    Returns test accuracy\n",
    "    \n",
    "        Parameters:\n",
    "            net (CNN): a trained model\n",
    "            args (ArgumentParser): hyperparameters\n",
    "        \n",
    "        Returns:\n",
    "            test_acc (float): test accuracy of a trained model\n",
    "    '''\n",
    "\n",
    "    model.load_state_dict(torch.load('model.pt'))\n",
    "    model.eval()\n",
    "\n",
    "    def predict_image(image, model):\n",
    "        # Define transforms for the dataset\n",
    "        transform = transforms.Compose([\n",
    "            transforms.Resize((32, 32)),    # Resize images to (32, 32)\n",
    "            transforms.Grayscale(),         # Convert images to grayscale\n",
    "            # ToBinary(threshold=128),        # Convert images to binary using thresholding\n",
    "            transforms.ToTensor()           # Convert images to PyTorch tensors\n",
    "        ])\n",
    "        image = transform(image)\n",
    "        image = torch.unsqueeze(image, 0)  # Add batch dimension\n",
    "        with torch.no_grad():\n",
    "            output = model(image)\n",
    "            _, predicted = torch.max(output, 1)\n",
    "            return predicted.item()\n",
    "    \n",
    "    predicted_chars = []\n",
    "    # Iterate through each image in the folder\n",
    "    for character in characters:\n",
    "        predicted_label = predict_image(character, model)\n",
    "        predicted_char = emnist_byclass_label_to_char(predicted_label)\n",
    "        predicted_chars.append(predicted_char)\n",
    "    \n",
    "    return predicted_chars\n",
    "\n",
    "\n",
    "def recognize_text(image_path):\n",
    "\n",
    "    # Preprocess the image\n",
    "    characters = preprocess_image(image_path)\n",
    "    # Convert the predictions to text\n",
    "    predicted_chars = infer_characters(characters)\n",
    "    return ''.join(predicted_chars), characters\n",
    "\n",
    "# Provide the path to your input image\n",
    "input_image_path = 'test_imgs/Words/COIN.png'\n",
    "# Recognize the text in the image\n",
    "recognized_text, original_characters = recognize_text(input_image_path)\n",
    "\n",
    "print(\"Recognized Text:\", recognized_text)\n",
    "\n",
    "# Plot the characters for visual inspection\n",
    "plt.figure(figsize=(10, 5))\n",
    "for i, character in enumerate(original_characters, 1):\n",
    "    plt.subplot(1, len(original_characters), i)\n",
    "    plt.imshow(character, cmap='gray')\n",
    "    plt.title('Character {}'.format(i))\n",
    "    plt.axis('off')\n",
    "plt.show()\n",
    "\n"
   ]
  },
  {
   "cell_type": "code",
   "execution_count": null,
   "metadata": {},
   "outputs": [],
   "source": []
  },
  {
   "cell_type": "code",
   "execution_count": null,
   "metadata": {},
   "outputs": [],
   "source": []
  }
 ],
 "metadata": {
  "kernelspec": {
   "display_name": "Python 3 (ipykernel)",
   "language": "python",
   "name": "python3"
  },
  "language_info": {
   "codemirror_mode": {
    "name": "ipython",
    "version": 3
   },
   "file_extension": ".py",
   "mimetype": "text/x-python",
   "name": "python",
   "nbconvert_exporter": "python",
   "pygments_lexer": "ipython3",
   "version": "3.11.4"
  }
 },
 "nbformat": 4,
 "nbformat_minor": 4
}
